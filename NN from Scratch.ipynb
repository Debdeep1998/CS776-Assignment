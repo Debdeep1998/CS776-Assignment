{
 "cells": [
  {
   "cell_type": "markdown",
   "id": "18123f8d",
   "metadata": {},
   "source": [
    "# Neural Network from nuts and bolts"
   ]
  },
  {
   "cell_type": "code",
   "execution_count": 1,
   "id": "7e44a24f",
   "metadata": {},
   "outputs": [
    {
     "name": "stderr",
     "output_type": "stream",
     "text": [
      "c:\\users\\jijo98\\appdata\\local\\programs\\python\\python39\\lib\\site-packages\\torchvision\\io\\image.py:11: UserWarning: Failed to load image Python extension: Could not find module 'C:\\Users\\Jijo98\\AppData\\Local\\Programs\\Python\\Python39\\Lib\\site-packages\\torchvision\\image.pyd' (or one of its dependencies). Try using the full path with constructor syntax.\n",
      "  warn(f\"Failed to load image Python extension: {e}\")\n"
     ]
    }
   ],
   "source": [
    "import matplotlib.pyplot as plt\n",
    "import os\n",
    "import numpy as np\n",
    "import math\n",
    "import random\n",
    "import copy\n",
    "import cv2\n",
    "from PIL import Image as im\n",
    "import feature_extractor"
   ]
  },
  {
   "cell_type": "code",
   "execution_count": null,
   "id": "7026fac4",
   "metadata": {},
   "outputs": [],
   "source": [
    "!jupyter nbextension enable --py widgetsnbextension"
   ]
  },
  {
   "cell_type": "markdown",
   "id": "ae5207ce",
   "metadata": {},
   "source": [
    "## Q1 Loading the dataset"
   ]
  },
  {
   "cell_type": "code",
   "execution_count": 2,
   "id": "12bfdb99",
   "metadata": {},
   "outputs": [],
   "source": [
    "def unpickle(file):\n",
    "    import pickle\n",
    "    with open(file, 'rb') as fo:\n",
    "        dict = pickle.load(fo, encoding='bytes')\n",
    "    return dict\n",
    "\n",
    "file = r'cifar-10-batches-py\\data_batch_1'\n",
    "data_batch_1 = unpickle(file)"
   ]
  },
  {
   "cell_type": "code",
   "execution_count": 334,
   "id": "10fa5cd1",
   "metadata": {},
   "outputs": [
    {
     "name": "stdout",
     "output_type": "stream",
     "text": [
      "dict_keys([b'batch_label', b'labels', b'data', b'filenames'])\n"
     ]
    }
   ],
   "source": [
    "print(data_batch_1.keys())\n"
   ]
  },
  {
   "cell_type": "code",
   "execution_count": 3,
   "id": "84181544",
   "metadata": {},
   "outputs": [],
   "source": [
    "\n",
    "\n",
    "ROOT=r'cifar-10-batches-py'\n",
    "\n",
    "X_train,Y_train=[], []\n",
    "for b in range(1,6):\n",
    "    '''Used to compile 5 batches and make the training dataset of 50k images'''\n",
    "    \n",
    "    loc=os.path.join(ROOT,'data_batch_%d'%(b,))\n",
    "    batch=unpickle(loc)\n",
    "    X_s,Y_s=batch[b'data'], batch[b'labels']\n",
    "    X_s=np.array(X_s)\n",
    "    Y_s=np.array(Y_s)\n",
    "    \n",
    "    X_train.append(X_s)\n",
    "    Y_train.append(Y_s)\n",
    "    \n",
    "X_train=np.concatenate(X_train)\n",
    "Y_train=np.concatenate(Y_train)\n",
    "\n"
   ]
  },
  {
   "cell_type": "code",
   "execution_count": 4,
   "id": "36649ff1",
   "metadata": {},
   "outputs": [],
   "source": [
    "meta_file = r'cifar-10-batches-py\\batches.meta'\n",
    "meta_data = unpickle(meta_file)"
   ]
  },
  {
   "cell_type": "code",
   "execution_count": 5,
   "id": "eff098c3",
   "metadata": {},
   "outputs": [
    {
     "name": "stdout",
     "output_type": "stream",
     "text": [
      "dict_keys([b'num_cases_per_batch', b'label_names', b'num_vis'])\n"
     ]
    }
   ],
   "source": [
    "print(meta_data.keys())"
   ]
  },
  {
   "cell_type": "code",
   "execution_count": 338,
   "id": "37c18e74",
   "metadata": {},
   "outputs": [
    {
     "name": "stdout",
     "output_type": "stream",
     "text": [
      "[b'airplane', b'automobile', b'bird', b'cat', b'deer', b'dog', b'frog', b'horse', b'ship', b'truck']\n"
     ]
    }
   ],
   "source": [
    "print(meta_data[b'label_names'])"
   ]
  },
  {
   "cell_type": "code",
   "execution_count": 6,
   "id": "2a8a4b63",
   "metadata": {},
   "outputs": [
    {
     "name": "stdout",
     "output_type": "stream",
     "text": [
      "Shape before reshape: (50000, 3072)\n",
      "Shape after reshape and before transpose: (50000, 3, 32, 32)\n",
      "Shape after reshape and transpose: (50000, 32, 32, 3)\n"
     ]
    },
    {
     "data": {
      "image/png": "[encoded data removed]",
      "text/plain": [
       "<Figure size 432x288 with 1 Axes>"
      ]
     },
     "metadata": {
      "needs_background": "light"
     },
     "output_type": "display_data"
    }
   ],
   "source": [
    "'''Reshaping and transpose operation to make the dataset fit for further processing'''\n",
    "\n",
    "print(\"Shape before reshape:\", X_train.shape)\n",
    "# Reshape the whole image data\n",
    "X_train = X_train.reshape(len(X_train),3,32,32)\n",
    "print(\"Shape after reshape and before transpose:\", X_train.shape)\n",
    "# Transpose the whole data\n",
    "X_train = X_train.transpose(0,2,3,1)\n",
    "print(\"Shape after reshape and transpose:\", X_train.shape)\n",
    "plt.imshow((X_train[1]).astype(np.uint8))\n",
    "plt.title(meta_data[b'label_names'][Y_train[1]])\n",
    "plt.show()"
   ]
  },
  {
   "cell_type": "code",
   "execution_count": null,
   "id": "f06629ae",
   "metadata": {},
   "outputs": [],
   "source": [
    "plt.imshow(X_train[1])\n",
    "plt.title(meta_data[b'label_names'][data_batch_1[b'labels'][1]])\n",
    "plt.show()"
   ]
  },
  {
   "cell_type": "code",
   "execution_count": null,
   "id": "eba4d679",
   "metadata": {},
   "outputs": [],
   "source": [
    "data_batch_1[b'labels']"
   ]
  },
  {
   "cell_type": "markdown",
   "id": "3f8b3bb3",
   "metadata": {},
   "source": [
    "## Q2 Image Transformation\n",
    "### (a)Random Rotation"
   ]
  },
  {
   "cell_type": "code",
   "execution_count": 7,
   "id": "65ed0147",
   "metadata": {},
   "outputs": [],
   "source": [
    "def random_rotation(image):\n",
    "    '''Function responsible for rotating the image with a random angle b/w -180 to 180'''\n",
    "    \n",
    "    angle=random.uniform(-180,180)\n",
    "    \n",
    "    angle=math.radians(angle)                               #converting degrees to radians\n",
    "    cosine=math.cos(angle)\n",
    "    sine=math.sin(angle)\n",
    "    height=image.shape[0]                                   #define the height of the image\n",
    "    width=image.shape[1]                                    #define the width of the image\n",
    "\n",
    "    # Define the height and width of the new image that is to be formed\n",
    "\n",
    "    \n",
    "    new_height=height\n",
    "    new_width=width\n",
    "\n",
    "    # define another image variable of dimensions of new_height and new _column filled with zeros\n",
    "\n",
    "    output=np.zeros((new_height,new_width,image.shape[2]),dtype=int)\n",
    "\n",
    "    # Find the centre of the image about which we have to rotate the image\n",
    "    original_centre_height   = image.shape[0]//2   #with respect to the original image\n",
    "    original_centre_width    = image.shape[1]//2   #with respect to the original image\n",
    "\n",
    "    # Find the centre of the new image that will be obtained\n",
    "    new_centre_height= new_height//2       #with respect to the new image\n",
    "    new_centre_width= new_width//2          #with respect to the new image\n",
    "\n",
    "    for i in range(height):\n",
    "        for j in range(width):\n",
    "            #co-ordinates of pixel with respect to the centre of original image\n",
    "            y=i-original_centre_height                   \n",
    "            x=j-original_centre_width                       \n",
    "\n",
    "            #co-ordinate of pixel with respect to the rotated image\n",
    "            new_y=round(-x*sine+y*cosine)\n",
    "            new_x=round(x*cosine+y*sine)\n",
    "\n",
    "       \n",
    "            new_y=new_centre_height-new_y\n",
    "            new_x=new_centre_width-new_x\n",
    "\n",
    "            # adding if check to prevent any errors in the processing\n",
    "            if 0 <= new_x < new_width and 0 <= new_y < new_height and new_x>=0 and new_y>=0:\n",
    "                output[new_y,new_x,:]=image[i,j,:]     \n",
    "    \n",
    "  \n",
    "    \n",
    "    \n",
    "    return output"
   ]
  },
  {
   "cell_type": "code",
   "execution_count": 99,
   "id": "1300eab5",
   "metadata": {},
   "outputs": [
    {
     "name": "stdout",
     "output_type": "stream",
     "text": [
      "(32, 32, 3)\n"
     ]
    },
    {
     "data": {
      "image/png": "[encoded data removed]",
      "text/plain": [
       "<Figure size 432x288 with 1 Axes>"
      ]
     },
     "metadata": {
      "needs_background": "light"
     },
     "output_type": "display_data"
    }
   ],
   "source": [
    "output=random_rotation(X_train[1])\n",
    "print(output.shape)\n",
    "plt.imshow(output.astype(np.uint8))\n",
    "plt.title('Rotated image')\n",
    "plt.show()"
   ]
  },
  {
   "cell_type": "markdown",
   "id": "c5ee5dd9",
   "metadata": {},
   "source": [
    "### (b) Random cutout"
   ]
  },
  {
   "cell_type": "code",
   "execution_count": 8,
   "id": "8dbdf45b",
   "metadata": {},
   "outputs": [],
   "source": [
    "def random_cutout(image):\n",
    "    \n",
    "    '''Responsible for cutting out a portion of image randomly'''\n",
    "    \n",
    "    output=image\n",
    "    cutout_pixels=random.choice(range(1,17)) #Will choose a random number x within the range and cutout x^2 portion from the original image\n",
    "    \n",
    "    #Intializing the starting point from where we'll start cutting out the image\n",
    "    x_start=random.randint(0,output.shape[0]+1-cutout_pixels)\n",
    "    y_start=random.randint(0,output.shape[1]+1-cutout_pixels)\n",
    "    \n",
    "    #Cutting out is essentially setting the pixels within a particular area to 0\n",
    "    for i in range(x_start,image.shape[0]-cutout_pixels):\n",
    "        for j in range(y_start,image.shape[1]-cutout_pixels):\n",
    "            output[i][j]=0\n",
    "            \n",
    "   \n",
    "    \n",
    "    return output\n",
    "    "
   ]
  },
  {
   "cell_type": "code",
   "execution_count": 11,
   "id": "45a7aa45",
   "metadata": {},
   "outputs": [
    {
     "name": "stdout",
     "output_type": "stream",
     "text": [
      "(32, 32, 3)\n"
     ]
    },
    {
     "data": {
      "image/png": "[encoded data removed]",
      "text/plain": [
       "<Figure size 432x288 with 1 Axes>"
      ]
     },
     "metadata": {
      "needs_background": "light"
     },
     "output_type": "display_data"
    }
   ],
   "source": [
    "output=random_cutout(copy.deepcopy(X_train[1]))\n",
    "print(output.shape)\n",
    "plt.imshow(output.astype(np.uint8))\n",
    "plt.title('Cutout image')\n",
    "plt.show()"
   ]
  },
  {
   "cell_type": "markdown",
   "id": "571e9cad",
   "metadata": {},
   "source": [
    "### (c) Random Cropping after Padding"
   ]
  },
  {
   "cell_type": "code",
   "execution_count": 12,
   "id": "4afabed5",
   "metadata": {},
   "outputs": [],
   "source": [
    "def random_cropping(image):\n",
    "    '''Used to crop out a portion of image after padding it with 2 pixels on all sides'''\n",
    "    \n",
    "    output=np.zeros([image.shape[0]+4,image.shape[1]+4,image.shape[2]],dtype=int) #Padding with black\n",
    "    output[2:34,2:34]=copy.deepcopy(image)\n",
    "    \n",
    "    #Intializes the starting pixel from where we'll start cropping out the image while making sure that we don't cross the boundary\n",
    "    x_start=random.randint(0,output.shape[0]-32)\n",
    "    y_start=random.randint(0,output.shape[1]-32)\n",
    "    \n",
    "    #Simple logic to extract some pixels from the image\n",
    "    cropped_img=output[x_start:x_start+32,y_start:y_start+32]\n",
    "\n",
    "    \n",
    "    return cropped_img\n",
    "    "
   ]
  },
  {
   "cell_type": "code",
   "execution_count": 12,
   "id": "856e305b",
   "metadata": {},
   "outputs": [
    {
     "name": "stdout",
     "output_type": "stream",
     "text": [
      "(32, 32, 3)\n"
     ]
    },
    {
     "data": {
      "image/png": "[encoded data removed]",
      "text/plain": [
       "<Figure size 432x288 with 1 Axes>"
      ]
     },
     "metadata": {
      "needs_background": "light"
     },
     "output_type": "display_data"
    }
   ],
   "source": [
    "output=random_cropping(copy.deepcopy(X_train[1]))\n",
    "print(output.shape)\n",
    "plt.imshow(output)\n",
    "plt.title('Cropped image')\n",
    "plt.show()"
   ]
  },
  {
   "cell_type": "markdown",
   "id": "512f2c3c",
   "metadata": {},
   "source": [
    "### (d) Contrast Adjusting & Horizontal flipping"
   ]
  },
  {
   "cell_type": "code",
   "execution_count": 13,
   "id": "5e45c523",
   "metadata": {},
   "outputs": [],
   "source": [
    "def con_n_flip(image):\n",
    "    '''Used for adjusting the contrast of image and flipping the image horizontally'''\n",
    "    \n",
    "    #Constrast Adjustment\n",
    "    alpha=random.uniform(0.5,2.0)\n",
    "    \n",
    "    \n",
    "    image[:,:,:]=alpha*(image[:,:,:]-128) + 128\n",
    "    \n",
    "    #Pixel Clipping\n",
    "    image[image>255]=255\n",
    "    image[image<0]=0\n",
    "\n",
    "    #Horizontal Flipping\n",
    "    flip_decision=random.choices([0,1],[0.5,0.5])\n",
    "    output=np.zeros((image.shape[0],image.shape[1],image.shape[2]))\n",
    "    if(flip_decision):\n",
    "        for i in range(image.shape[0]):\n",
    "            output[:,i,:]=image[:,image.shape[1]-i-1,:]\n",
    "            \n",
    "    \n",
    "    \n",
    "    return output"
   ]
  },
  {
   "cell_type": "code",
   "execution_count": 14,
   "id": "a556eec4",
   "metadata": {},
   "outputs": [
    {
     "data": {
      "image/png": "[encoded data removed]",
      "text/plain": [
       "<Figure size 432x288 with 1 Axes>"
      ]
     },
     "metadata": {
      "needs_background": "light"
     },
     "output_type": "display_data"
    }
   ],
   "source": [
    "output=con_n_flip(copy.deepcopy(X_train[1]))\n",
    "plt.imshow(output/255.0)\n",
    "plt.title('Flipped image with changed contrast')\n",
    "plt.show()"
   ]
  },
  {
   "cell_type": "code",
   "execution_count": 16,
   "id": "aa527b57",
   "metadata": {},
   "outputs": [],
   "source": [
    "#Image normalization and reshaping\n",
    "X_train_norm=X_train/255\n",
    "X_train_norm = X_train_norm.reshape(len(X_train_norm),3,32,32)\n",
    "X_train_norm = X_train_norm.transpose(0,2,3,1)"
   ]
  },
  {
   "cell_type": "markdown",
   "id": "d0406502",
   "metadata": {},
   "source": [
    "## Q3 Data Augmentation\n",
    " "
   ]
  },
  {
   "cell_type": "code",
   "execution_count": 17,
   "id": "5f63928a",
   "metadata": {},
   "outputs": [],
   "source": [
    "\n",
    "def data_aug(X_train):\n",
    "    '''Creates the augmented dataset by applying augmentation operations on every image of original dataset\n",
    "     and appending each augmented image with the original dataset'''\n",
    "    \n",
    "    data_pts=X_train.shape[0]\n",
    "    augment=[random_rotation, random_cutout, random_cropping, con_n_flip]\n",
    "    aug=[]\n",
    "  \n",
    "    #Randomly chooses an augmentation and applies it image\n",
    "    for i in range(data_pts):\n",
    "        \n",
    "        aug_choice=random.choices(range(4),k=1)[0]\n",
    "        \n",
    "        aug.append(augment[aug_choice](copy.deepcopy(X_train[i])))\n",
    "      \n",
    "        \n",
    "        \n",
    "     \n",
    "    aug=np.array(aug)\n",
    "    X_train=np.array(X_train)\n",
    "    print(X_train.dtype, aug.shape)\n",
    "    augmented_data=np.concatenate([X_train, aug])\n",
    "\n",
    "    return augmented_data\n",
    "        \n",
    "        \n"
   ]
  },
  {
   "cell_type": "code",
   "execution_count": 30,
   "id": "b30ec0e8",
   "metadata": {},
   "outputs": [
    {
     "name": "stdout",
     "output_type": "stream",
     "text": [
      "float64 (50000, 32, 32, 3)\n"
     ]
    }
   ],
   "source": [
    "X_train_aug=data_aug(X_train_norm)\n",
    "\n"
   ]
  },
  {
   "cell_type": "code",
   "execution_count": null,
   "id": "fd8e8671",
   "metadata": {},
   "outputs": [],
   "source": [
    "X_train.shape\n",
    "out = cv2.resize(X_train[0], (224, 224))\n",
    "out.shape\n",
    "plt.imshow(out)\n",
    "plt.show()"
   ]
  },
  {
   "cell_type": "markdown",
   "id": "0ac4855f",
   "metadata": {},
   "source": [
    "## Q4. Feature extractor"
   ]
  },
  {
   "cell_type": "code",
   "execution_count": 18,
   "id": "d2c16d61",
   "metadata": {},
   "outputs": [],
   "source": [
    "\n",
    "def feature_extract(image):\n",
    "    \n",
    "    '''Function using the feature_extractor.py file for extracting features and converting it to trainable form which is a flattened vec of size 512 features'''\n",
    "    #Reshaping images of size 3*32*32 to 3*224*224\n",
    "    new_data=np.zeros(shape=(image.shape[0],512),dtype='float32')\n",
    "    res_obj=feature_extractor.BBResNet18()\n",
    "    for i in range(image.shape[0]):\n",
    "        \n",
    "        \n",
    "        out =cv2.resize(image[i], (224, 224))\n",
    "        \n",
    "        out=out.transpose(2,1,0)\n",
    "        out=out.reshape(1,3, 224, 224)\n",
    "       \n",
    "        new_data[i]=res_obj.feature_extraction(out.astype('float32'))\n",
    "        \n",
    "   \n",
    "    \n",
    "    print(new_data.shape)\n",
    " \n",
    "#     out=res_obj.feature_extraction(new_data)\n",
    "    \n",
    "\n",
    "    return new_data\n",
    "\n"
   ]
  },
  {
   "cell_type": "code",
   "execution_count": 153,
   "id": "106bf4b0",
   "metadata": {},
   "outputs": [
    {
     "name": "stdout",
     "output_type": "stream",
     "text": [
      "(50000, 512)\n"
     ]
    }
   ],
   "source": [
    "# flat_train=feature_extract(copy.deepcopy(X_train_norm))\n"
   ]
  },
  {
   "cell_type": "markdown",
   "id": "619dd4fc",
   "metadata": {},
   "source": [
    "## Extracted Features have been stored in a file and is loaded with the code below:"
   ]
  },
  {
   "cell_type": "code",
   "execution_count": 19,
   "id": "2737cb32",
   "metadata": {},
   "outputs": [],
   "source": [
    "#Loading the extracted features from the file, for training on un_augmented dataset we just need to run the model on first 50k data points\n",
    "flat_train_aug=np.load('aug_train_features.npy')"
   ]
  },
  {
   "cell_type": "code",
   "execution_count": 41,
   "id": "f8fd92a8",
   "metadata": {},
   "outputs": [],
   "source": [
    "#Loading test dataset\n",
    "ROOT=r'cifar-10-batches-py'\n",
    "\n",
    "loc=os.path.join(ROOT,'test_batch')\n",
    "batch=unpickle(loc)\n",
    "X_test,Y_test=batch[b'data'], batch[b'labels']\n",
    "\n",
    "\n",
    "X_test_norm=X_test/255\n",
    "X_test_norm = X_test_norm.reshape(len(X_test_norm),3,32,32)\n",
    "X_test_norm = X_test_norm.transpose(0,2,3,1)"
   ]
  },
  {
   "cell_type": "code",
   "execution_count": 40,
   "id": "b4a47c9c",
   "metadata": {},
   "outputs": [],
   "source": [
    "# flat_test=feature_extract(X_test_norm)\n",
    "flat_test=np.load('test_data_features.npy')"
   ]
  },
  {
   "cell_type": "markdown",
   "id": "6aae1d3a",
   "metadata": {},
   "source": [
    "## Q5 Implementing Forward Pass"
   ]
  },
  {
   "cell_type": "code",
   "execution_count": 37,
   "id": "9e09c8cb",
   "metadata": {},
   "outputs": [
    {
     "data": {
      "text/plain": [
       "(10, 50000)"
      ]
     },
     "execution_count": 37,
     "metadata": {},
     "output_type": "execute_result"
    }
   ],
   "source": [
    "def one_hot_encoder(labels):\n",
    "    \n",
    "    '''Helper function take in categorical labels as input and producing one-hot encoded vector as output'''\n",
    "    labels=np.array(labels)\n",
    "    out_encode=np.zeros((np.max(labels)+1,labels.shape[0]),dtype=int)\n",
    "   \n",
    "    for i in range(labels.shape[0]):\n",
    "        \n",
    "        out_encode[labels[i]][i]=1\n",
    "        \n",
    "        \n",
    "    return out_encode   \n",
    "    \n",
    "def par_ini(inp, hid, out):\n",
    "    \n",
    "    '''Responsible for initializing parameters'''\n",
    "    \n",
    "    W1=np.random.randn(hid,inp)/1e3\n",
    "    b1=np.zeros((hid,1))\n",
    "    W2=np.random.randn(out,hid)/1e3\n",
    "    b2=np.zeros((out,1))\n",
    "    param= {'W1':W1, 'b1':b1, 'W2':W2, 'b2':b2}\n",
    "    return param\n",
    "\n",
    "\n",
    "def relu(x):\n",
    "    '''Helper function to calculate ReLU'''\n",
    "    \n",
    "    return np.maximum(0,x)\n",
    "    \n",
    "    \n",
    "def softmax(X):\n",
    "    '''Helper function to calculate softmax'''\n",
    "    e=np.exp(X)\n",
    "    return e/np.sum(e)\n",
    "\n",
    "def forward_prop(X, param):\n",
    "   \n",
    "    '''Function implementing forward_prop'''\n",
    "   \n",
    "    #Initializing weight parameters\n",
    "    W1=param['W1']\n",
    "    b1=param['b1']\n",
    "    W2=param['W2']\n",
    "    b2=param['b2']\n",
    "    \n",
    "   \n",
    "    #Output of first hidden layr\n",
    "    h1=np.matmul(W1,X.T)+b1 #64*number of training pts\n",
    "   \n",
    "    #Activation of first hidden layer\n",
    "    a1= relu(h1)\n",
    "    \n",
    "    #Output of the last layer\n",
    "    o=np.matmul(W2,a1)+b2\n",
    "    \n",
    "    #Softmax activated output of the last layer indicating probability of each class\n",
    "    a2=[softmax(o[:,i]) for i in range(X.shape[0])]\n",
    "    \n",
    "    memory= {\"h1\":h1, \"a1\":a1, \"o\":o, \"a2\":a2}\n",
    "    \n",
    "    return a2, memory\n",
    "\n",
    "def cat_cross_entrop(pred,actual):\n",
    "    '''Helper function to calculate categorical cross entropy loss'''\n",
    "    \n",
    "    \n",
    "    loss=-np.sum(actual*np.log(pred))\n",
    "    \n",
    "    return loss/len(pred)\n",
    "\n",
    "\n",
    "    \n",
    "    \n",
    "    \n"
   ]
  },
  {
   "cell_type": "code",
   "execution_count": 42,
   "id": "c3325caa",
   "metadata": {},
   "outputs": [],
   "source": [
    "labels_encoded=one_hot_encoder(Y_train) # 10,50k\n",
    "labels_encoded_aug=np.concatenate([labels_encoded,labels_encoded], axis=1)\n",
    "labels_encoded_test=one_hot_encoder(Y_test)"
   ]
  },
  {
   "cell_type": "code",
   "execution_count": 22,
   "id": "63ee5785",
   "metadata": {},
   "outputs": [
    {
     "data": {
      "text/plain": [
       "(10, 100000)"
      ]
     },
     "execution_count": 22,
     "metadata": {},
     "output_type": "execute_result"
    }
   ],
   "source": [
    "labels_encoded_aug.shape"
   ]
  },
  {
   "cell_type": "code",
   "execution_count": 407,
   "id": "8af27562",
   "metadata": {},
   "outputs": [],
   "source": [
    "parameters=par_ini(512,64,10)\n",
    "fp, memo=forward_prop(flat_train[:50],parameters)"
   ]
  },
  {
   "cell_type": "markdown",
   "id": "536923a1",
   "metadata": {},
   "source": [
    "## Q6. & Q7. Backpropagation, training and testing"
   ]
  },
  {
   "cell_type": "code",
   "execution_count": 23,
   "id": "a4f1fba4",
   "metadata": {},
   "outputs": [],
   "source": [
    "def backprop(parameters, memo, X, Y):\n",
    "    \n",
    "    '''Function to calculate backprop'''\n",
    "    \n",
    "    \n",
    "    W1=parameters['W1']\n",
    "    W2=parameters['W2']\n",
    "    a1=np.array(memo['a1'])\n",
    "    a2=np.array(memo['a2'])\n",
    "    batch_size=X.shape[0]\n",
    "    \n",
    "    dz2= (a2-Y) #b*10\n",
    "   \n",
    "    dW2= (1/batch_size)*np.matmul(dz2.T,a1.T)  #shape is 10*64\n",
    "    # print(dW2.shape, dz2.shape)\n",
    "   \n",
    "    db2= (1/batch_size)*dz2 # np.matmul(dz2,np.identity(10)) # shape is b*10\n",
    "    \n",
    "    da1= np.matmul(dz2,W2)  #b*64\n",
    "   \n",
    "   \n",
    "    \n",
    "    dz1 = np.multiply(da1, (memo['h1']>0).T)  # shape is b*64\n",
    "        \n",
    "    dW1=(1/batch_size)*np.matmul(dz1.T, X) #64*512\n",
    "  \n",
    "    db1= (1/batch_size)*dz1 # np.matmul(dz1,np.identity(64)) #b*64\n",
    "    \n",
    "    grads = {\"dW1\": dW1, \"db1\": db1, \"dW2\": dW2,\"db2\": db2}\n",
    "    \n",
    "    return grads"
   ]
  },
  {
   "cell_type": "code",
   "execution_count": 26,
   "id": "113fbfc3",
   "metadata": {},
   "outputs": [],
   "source": [
    "def grad_desc(param, grads, lr):\n",
    "    \n",
    "    '''Implementation of Gradient descent'''\n",
    "    \n",
    "    W1=param['W1']\n",
    "    b1=param['b1']\n",
    "    W2=param['W2']\n",
    "    b2=param['b2']\n",
    "    \n",
    "    dW1=grads['dW1']\n",
    "    db1=grads['db1']\n",
    "    dW2=grads['dW2']\n",
    "    db2=grads['db2']\n",
    "    \n",
    "    W1=W1- lr*dW1\n",
    "    b1=(b1.T- lr*db1).T\n",
    "    W2=W2- lr*dW2\n",
    "    b2=(b2.T- lr*db2).T\n",
    "    \n",
    "    b1=b1[:,0].reshape((b1[:,0].shape[0],1))\n",
    "    b2=b2[:,0].reshape((b2[:,0].shape[0],1))\n",
    "    \n",
    "    parameters= {'W1':W1, 'b1':b1, 'W2':W2, 'b2':b2}\n",
    "    \n",
    "    return parameters\n",
    "    "
   ]
  },
  {
   "cell_type": "code",
   "execution_count": 28,
   "id": "7a11fbf0",
   "metadata": {},
   "outputs": [],
   "source": [
    "def train_NN(flat_train,labels_encoded, batch_size=128, lr=0.01):\n",
    "    '''Function for training the Neural Network and returning the learned parameters'''\n",
    "    \n",
    "    parameters=par_ini(input_units, hidden_units, output_units)\n",
    "    W1=parameters['W1']\n",
    "    b1=parameters['b1']\n",
    "    W2=parameters['W2']\n",
    "    b2=parameters['b2']\n",
    "  \n",
    "    acc_log=[]\n",
    "    cost_log=[]\n",
    "    epochs_log=[]\n",
    "    for epochs in range(1,121):\n",
    "    \n",
    "        itr=flat_train.shape[0]//batch_size\n",
    "        acc=0\n",
    "        for batch in range(0, flat_train.shape[0]-batch_size, batch_size):\n",
    "            A2, memo= forward_prop(flat_train[batch:batch+batch_size, :], parameters)\n",
    "        \n",
    "            cost=cat_cross_entrop(A2, (labels_encoded.T)[batch:batch+batch_size,:])\n",
    "            grads=backprop(parameters, memo, flat_train[batch:batch+batch_size, :], (labels_encoded.T)[batch:batch+batch_size,:])\n",
    "            parameters=grad_desc(parameters,grads, lr)\n",
    "      \n",
    "            #print(np.argmax(labels_encoded.T, axis=1), labels_encoded.T)\n",
    "            acc += np.sum(np.argmax(A2, axis=1) == np.argmax((labels_encoded.T)[batch:batch+batch_size,:], axis=1))\n",
    "#         print(accuracy_score(A2, labels_encoded.shape))\n",
    "       \n",
    "        \n",
    "        if epochs % 10 == 0:\n",
    "            acc_log.append((acc/flat_train.shape[0])*100)\n",
    "            cost_log.append(cost)\n",
    "            epochs_log.append(epochs)\n",
    "            print (\"Cost after epochs %d: %f and accuracy=%f\" %(epochs, cost, (acc/flat_train.shape[0])*100))\n",
    "                \n",
    "       \n",
    "    return parameters,acc_log,cost_log, epochs_log"
   ]
  },
  {
   "cell_type": "markdown",
   "id": "2ba621e5",
   "metadata": {},
   "source": [
    "## Load the test file by using the following code and also extract features by running the cell following it"
   ]
  },
  {
   "cell_type": "code",
   "execution_count": 29,
   "id": "0c21465a",
   "metadata": {},
   "outputs": [],
   "source": [
    "ROOT=r'cifar-10-batches-py'\n",
    "\n",
    "loc=os.path.join(ROOT,'test_batch')\n",
    "batch=unpickle(loc)\n",
    "X_test,Y_test=batch[b'data'], batch[b'labels']\n",
    "\n",
    "\n",
    "X_test_norm=X_test/255\n",
    "X_test_norm = X_test_norm.reshape(len(X_test_norm),3,32,32)\n",
    "X_test_norm = X_test_norm.transpose(0,2,3,1)"
   ]
  },
  {
   "cell_type": "code",
   "execution_count": 30,
   "id": "64dfb29a",
   "metadata": {},
   "outputs": [],
   "source": [
    "#Loading feature extracted test set\n",
    "flat_test=np.load('test_data_features.npy')"
   ]
  },
  {
   "cell_type": "code",
   "execution_count": 32,
   "id": "87a3981a",
   "metadata": {},
   "outputs": [],
   "source": [
    "input_units=512\n",
    "hidden_units=64\n",
    "output_units=10"
   ]
  },
  {
   "cell_type": "code",
   "execution_count": 52,
   "id": "cbe018b5",
   "metadata": {},
   "outputs": [
    {
     "name": "stdout",
     "output_type": "stream",
     "text": [
      "Cost after epochs 10: 0.672080 and accuracy=76.298000\n",
      "Cost after epochs 20: 0.629671 and accuracy=79.312000\n",
      "Cost after epochs 30: 0.605288 and accuracy=80.352000\n",
      "Cost after epochs 40: 0.583751 and accuracy=81.094000\n",
      "Cost after epochs 50: 0.559040 and accuracy=81.814000\n",
      "Cost after epochs 60: 0.543904 and accuracy=82.358000\n",
      "Cost after epochs 70: 0.528522 and accuracy=82.870000\n",
      "Cost after epochs 80: 0.514821 and accuracy=83.346000\n",
      "Cost after epochs 90: 0.502709 and accuracy=83.940000\n",
      "Cost after epochs 100: 0.486513 and accuracy=84.434000\n",
      "Cost after epochs 110: 0.467480 and accuracy=84.924000\n",
      "Cost after epochs 120: 0.448516 and accuracy=85.358000\n"
     ]
    }
   ],
   "source": [
    "#Training on Non_Augmented dataset, but no need of tranining as trained parameters are loaded in the following cells\n",
    "parameters, acc_aug_unaug, cost_log_unaug, epochs=train_NN(flat_train_aug[:50000], labels_encoded, 64, 0.01)\n"
   ]
  },
  {
   "cell_type": "code",
   "execution_count": 53,
   "id": "52c6d0e9",
   "metadata": {},
   "outputs": [],
   "source": [
    "# Saving trained weights for non-augmented data\n",
    "# np.save('Non_aug_parameters', parameters)"
   ]
  },
  {
   "cell_type": "code",
   "execution_count": 54,
   "id": "c8454f19",
   "metadata": {},
   "outputs": [],
   "source": [
    "#Loading non_augmented trained parameters\n",
    "param_non=np.load('Non_aug_parameters.npy', allow_pickle=True).item()"
   ]
  },
  {
   "cell_type": "code",
   "execution_count": 55,
   "id": "90d0167d",
   "metadata": {},
   "outputs": [
    {
     "data": {
      "text/plain": [
       "(0.6037571923323269, 79.77)"
      ]
     },
     "execution_count": 55,
     "metadata": {},
     "output_type": "execute_result"
    }
   ],
   "source": [
    "#Test accuracy post training on Unaugmented data\n",
    "pred, _= forward_prop(flat_test, param_non)\n",
    "cost=cat_cross_entrop(pred, labels_encoded_test.T)\n",
    "cost,np.sum(np.argmax(pred, axis=1) == np.argmax((labels_encoded_test.T), axis=1))/100"
   ]
  },
  {
   "cell_type": "code",
   "execution_count": 60,
   "id": "d1b288fd",
   "metadata": {},
   "outputs": [
    {
     "name": "stdout",
     "output_type": "stream",
     "text": [
      "Cost after epochs 10: 0.854010 and accuracy=71.112000\n",
      "Cost after epochs 20: 0.809949 and accuracy=73.312000\n",
      "Cost after epochs 30: 0.789140 and accuracy=74.507000\n",
      "Cost after epochs 40: 0.761637 and accuracy=75.501000\n",
      "Cost after epochs 50: 0.728593 and accuracy=76.300000\n",
      "Cost after epochs 60: 0.694342 and accuracy=76.955000\n",
      "Cost after epochs 70: 0.670465 and accuracy=77.566000\n",
      "Cost after epochs 80: 0.647683 and accuracy=78.048000\n",
      "Cost after epochs 90: 0.633493 and accuracy=78.567000\n",
      "Cost after epochs 100: 0.610293 and accuracy=78.936000\n",
      "Cost after epochs 110: 0.591463 and accuracy=79.365000\n",
      "Cost after epochs 120: 0.585620 and accuracy=79.742000\n"
     ]
    }
   ],
   "source": [
    "#Training on Augmented dataset, but no need of tranining as trained parameters are loaded in the following cells\n",
    "parameters, acc_aug, cost_log_aug, _=train_NN(flat_train_aug, labels_encoded_aug, 64, 0.01)\n"
   ]
  },
  {
   "cell_type": "code",
   "execution_count": 57,
   "id": "1145dcc8",
   "metadata": {},
   "outputs": [],
   "source": [
    "#Saving Augmented Parameters\n",
    "# np.save('Aug_parameters', parameters)"
   ]
  },
  {
   "cell_type": "code",
   "execution_count": 58,
   "id": "02ee1537",
   "metadata": {},
   "outputs": [],
   "source": [
    "#Loading Augmented Parameters\n",
    "param_aug=np.load('Aug_parameters.npy', allow_pickle=True ).item()"
   ]
  },
  {
   "cell_type": "code",
   "execution_count": null,
   "id": "cdbc2c6b",
   "metadata": {},
   "outputs": [],
   "source": [
    "#Test accuracy post training on Augmented data\n",
    "pred, _= forward_prop(flat_test, param_aug)\n",
    "cost=cat_cross_entrop(pred, labels_encoded_test.T)\n",
    "cost,np.sum(np.argmax(pred, axis=1) == np.argmax((labels_encoded_test.T), axis=1))/100"
   ]
  },
  {
   "cell_type": "code",
   "execution_count": 282,
   "id": "39492e9e",
   "metadata": {},
   "outputs": [
    {
     "name": "stdout",
     "output_type": "stream",
     "text": [
      "Loss=0.596115, Accuracy=80.200000\n"
     ]
    }
   ],
   "source": [
    "print('Loss=%f, Accuracy=%f'%(cost,np.sum(np.argmax(pred, axis=1) == np.argmax((label_encoded_test.T), axis=1))/100))"
   ]
  },
  {
   "cell_type": "code",
   "execution_count": 294,
   "id": "efae66c0",
   "metadata": {},
   "outputs": [
    {
     "data": {
      "text/plain": [
       "Text(0.5, 1.0, 'Loss plot')"
      ]
     },
     "execution_count": 294,
     "metadata": {},
     "output_type": "execute_result"
    },
    {
     "data": {
      "image/png": "[encoded data removed]",
      "text/plain": [
       "<Figure size 432x288 with 2 Axes>"
      ]
     },
     "metadata": {
      "needs_background": "light"
     },
     "output_type": "display_data"
    }
   ],
   "source": [
    "# Create two subplots and unpack the output array immediately\n",
    "f, (ax1, ax2) = plt.subplots(1, 2)\n",
    "ax1.plot(epochs, acc_aug_unaug, label='Unaugmented data')\n",
    "ax1.plot(epochs, acc_aug, label='Augmented data')\n",
    "ax1.set_xlabel('epochs')\n",
    "ax1.set_ylabel('Accuracy')\n",
    "ax1.legend()\n",
    "ax1.set_title('Accuracy plot')\n",
    "\n",
    "ax2.plot(epochs, cost_log_unaug, label='Unaugmented data')\n",
    "ax2.plot(epochs, cost_log_aug, label='Augmented data')\n",
    "ax2.legend()\n",
    "ax2.set_xlabel('epochs')\n",
    "ax2.set_ylabel('Loss')\n",
    "ax2.set_title('Loss plot')\n",
    "\n",
    "# ax2.scatter(x, y)"
   ]
  },
  {
   "cell_type": "code",
   "execution_count": 55,
   "id": "430734e5",
   "metadata": {},
   "outputs": [],
   "source": []
  },
  {
   "cell_type": "code",
   "execution_count": 508,
   "id": "e107eedf",
   "metadata": {},
   "outputs": [
    {
     "data": {
      "text/plain": [
       "(10000, 32, 32, 3)"
      ]
     },
     "execution_count": 508,
     "metadata": {},
     "output_type": "execute_result"
    }
   ],
   "source": [
    "X_test_norm.shape"
   ]
  },
  {
   "cell_type": "code",
   "execution_count": 58,
   "id": "f07c0866",
   "metadata": {},
   "outputs": [
    {
     "name": "stdout",
     "output_type": "stream",
     "text": [
      "(10000, 512)\n"
     ]
    }
   ],
   "source": []
  }
 ],
 "metadata": {
  "kernelspec": {
   "display_name": "Python 3 (ipykernel)",
   "language": "python",
   "name": "python3"
  },
  "language_info": {
   "codemirror_mode": {
    "name": "ipython",
    "version": 3
   },
   "file_extension": ".py",
   "mimetype": "text/x-python",
   "name": "python",
   "nbconvert_exporter": "python",
   "pygments_lexer": "ipython3",
   "version": "3.9.6"
  }
 },
 "nbformat": 4,
 "nbformat_minor": 5
}
